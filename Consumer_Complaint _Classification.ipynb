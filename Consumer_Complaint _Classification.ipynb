{
 "cells": [
  {
   "cell_type": "markdown",
   "metadata": {},
   "source": [
    "# Consumer Complaint Classification/NLP"
   ]
  },
  {
   "cell_type": "code",
   "execution_count": 1,
   "metadata": {},
   "outputs": [],
   "source": [
    "import pandas as pd\n",
    "import numpy as np\n",
    "import os"
   ]
  },
  {
   "cell_type": "code",
   "execution_count": 2,
   "metadata": {},
   "outputs": [
    {
     "data": {
      "text/plain": [
       "'C:\\\\Users\\\\Prabhat Singh'"
      ]
     },
     "execution_count": 2,
     "metadata": {},
     "output_type": "execute_result"
    }
   ],
   "source": [
    "pwd"
   ]
  },
  {
   "cell_type": "code",
   "execution_count": 3,
   "metadata": {},
   "outputs": [],
   "source": [
    "df = pd.read_csv(\"C:\\\\Users\\\\Prabhat Singh\\Desktop\\dataset\\kaggle5\\Consumer_Complaints.csv\")"
   ]
  },
  {
   "cell_type": "code",
   "execution_count": 4,
   "metadata": {},
   "outputs": [
    {
     "data": {
      "text/html": [
       "<div>\n",
       "<style scoped>\n",
       "    .dataframe tbody tr th:only-of-type {\n",
       "        vertical-align: middle;\n",
       "    }\n",
       "\n",
       "    .dataframe tbody tr th {\n",
       "        vertical-align: top;\n",
       "    }\n",
       "\n",
       "    .dataframe thead th {\n",
       "        text-align: right;\n",
       "    }\n",
       "</style>\n",
       "<table border=\"1\" class=\"dataframe\">\n",
       "  <thead>\n",
       "    <tr style=\"text-align: right;\">\n",
       "      <th></th>\n",
       "      <th>Date received</th>\n",
       "      <th>Product</th>\n",
       "      <th>Sub-product</th>\n",
       "      <th>Issue</th>\n",
       "      <th>Sub-issue</th>\n",
       "      <th>Consumer Complaint</th>\n",
       "      <th>Company Public Response</th>\n",
       "      <th>Company</th>\n",
       "      <th>State</th>\n",
       "      <th>ZIP code</th>\n",
       "      <th>Tags</th>\n",
       "      <th>Consumer consent provided?</th>\n",
       "      <th>Submitted via</th>\n",
       "      <th>Date Sent to Company</th>\n",
       "      <th>Company Response to Consumer</th>\n",
       "      <th>Timely response?</th>\n",
       "      <th>Consumer disputed?</th>\n",
       "      <th>Complaint ID</th>\n",
       "    </tr>\n",
       "  </thead>\n",
       "  <tbody>\n",
       "    <tr>\n",
       "      <th>0</th>\n",
       "      <td>3/12/14</td>\n",
       "      <td>Mortgage</td>\n",
       "      <td>Other mortgage</td>\n",
       "      <td>Loan modification,collection,foreclosure</td>\n",
       "      <td>NaN</td>\n",
       "      <td>NaN</td>\n",
       "      <td>NaN</td>\n",
       "      <td>M&amp;T BANK CORPORATION</td>\n",
       "      <td>MI</td>\n",
       "      <td>48382</td>\n",
       "      <td>NaN</td>\n",
       "      <td>NaN</td>\n",
       "      <td>Referral</td>\n",
       "      <td>3/17/14</td>\n",
       "      <td>Closed with explanation</td>\n",
       "      <td>Yes</td>\n",
       "      <td>No</td>\n",
       "      <td>759217</td>\n",
       "    </tr>\n",
       "    <tr>\n",
       "      <th>1</th>\n",
       "      <td>10/1/16</td>\n",
       "      <td>Credit reporting</td>\n",
       "      <td>NaN</td>\n",
       "      <td>Incorrect information on credit report</td>\n",
       "      <td>Account status</td>\n",
       "      <td>I have outdated information on my credit repor...</td>\n",
       "      <td>Company has responded to the consumer and the ...</td>\n",
       "      <td>TRANSUNION INTERMEDIATE HOLDINGS, INC.</td>\n",
       "      <td>AL</td>\n",
       "      <td>352XX</td>\n",
       "      <td>NaN</td>\n",
       "      <td>Consent provided</td>\n",
       "      <td>Web</td>\n",
       "      <td>10/5/16</td>\n",
       "      <td>Closed with explanation</td>\n",
       "      <td>Yes</td>\n",
       "      <td>No</td>\n",
       "      <td>2141773</td>\n",
       "    </tr>\n",
       "    <tr>\n",
       "      <th>2</th>\n",
       "      <td>10/17/16</td>\n",
       "      <td>Consumer Loan</td>\n",
       "      <td>Vehicle loan</td>\n",
       "      <td>Managing the loan or lease</td>\n",
       "      <td>NaN</td>\n",
       "      <td>I purchased a new car on XXXX XXXX. The car de...</td>\n",
       "      <td>NaN</td>\n",
       "      <td>CITIZENS FINANCIAL GROUP, INC.</td>\n",
       "      <td>PA</td>\n",
       "      <td>177XX</td>\n",
       "      <td>Older American</td>\n",
       "      <td>Consent provided</td>\n",
       "      <td>Web</td>\n",
       "      <td>10/20/16</td>\n",
       "      <td>Closed with explanation</td>\n",
       "      <td>Yes</td>\n",
       "      <td>No</td>\n",
       "      <td>2163100</td>\n",
       "    </tr>\n",
       "    <tr>\n",
       "      <th>3</th>\n",
       "      <td>6/8/14</td>\n",
       "      <td>Credit card</td>\n",
       "      <td>NaN</td>\n",
       "      <td>Bankruptcy</td>\n",
       "      <td>NaN</td>\n",
       "      <td>NaN</td>\n",
       "      <td>NaN</td>\n",
       "      <td>AMERICAN EXPRESS COMPANY</td>\n",
       "      <td>ID</td>\n",
       "      <td>83854</td>\n",
       "      <td>Older American</td>\n",
       "      <td>NaN</td>\n",
       "      <td>Web</td>\n",
       "      <td>6/10/14</td>\n",
       "      <td>Closed with explanation</td>\n",
       "      <td>Yes</td>\n",
       "      <td>Yes</td>\n",
       "      <td>885638</td>\n",
       "    </tr>\n",
       "    <tr>\n",
       "      <th>4</th>\n",
       "      <td>9/13/14</td>\n",
       "      <td>Debt collection</td>\n",
       "      <td>Credit card</td>\n",
       "      <td>Communication tactics</td>\n",
       "      <td>Frequent or repeated calls</td>\n",
       "      <td>NaN</td>\n",
       "      <td>NaN</td>\n",
       "      <td>CITIBANK, N.A.</td>\n",
       "      <td>VA</td>\n",
       "      <td>23233</td>\n",
       "      <td>NaN</td>\n",
       "      <td>NaN</td>\n",
       "      <td>Web</td>\n",
       "      <td>9/13/14</td>\n",
       "      <td>Closed with explanation</td>\n",
       "      <td>Yes</td>\n",
       "      <td>Yes</td>\n",
       "      <td>1027760</td>\n",
       "    </tr>\n",
       "  </tbody>\n",
       "</table>\n",
       "</div>"
      ],
      "text/plain": [
       "  Date received           Product     Sub-product  \\\n",
       "0       3/12/14          Mortgage  Other mortgage   \n",
       "1       10/1/16  Credit reporting             NaN   \n",
       "2      10/17/16     Consumer Loan    Vehicle loan   \n",
       "3        6/8/14       Credit card             NaN   \n",
       "4       9/13/14   Debt collection     Credit card   \n",
       "\n",
       "                                      Issue                   Sub-issue  \\\n",
       "0  Loan modification,collection,foreclosure                         NaN   \n",
       "1    Incorrect information on credit report              Account status   \n",
       "2                Managing the loan or lease                         NaN   \n",
       "3                                Bankruptcy                         NaN   \n",
       "4                     Communication tactics  Frequent or repeated calls   \n",
       "\n",
       "                                  Consumer Complaint  \\\n",
       "0                                                NaN   \n",
       "1  I have outdated information on my credit repor...   \n",
       "2  I purchased a new car on XXXX XXXX. The car de...   \n",
       "3                                                NaN   \n",
       "4                                                NaN   \n",
       "\n",
       "                             Company Public Response  \\\n",
       "0                                                NaN   \n",
       "1  Company has responded to the consumer and the ...   \n",
       "2                                                NaN   \n",
       "3                                                NaN   \n",
       "4                                                NaN   \n",
       "\n",
       "                                  Company State ZIP code            Tags  \\\n",
       "0                    M&T BANK CORPORATION    MI    48382             NaN   \n",
       "1  TRANSUNION INTERMEDIATE HOLDINGS, INC.    AL    352XX             NaN   \n",
       "2          CITIZENS FINANCIAL GROUP, INC.    PA    177XX  Older American   \n",
       "3                AMERICAN EXPRESS COMPANY    ID    83854  Older American   \n",
       "4                          CITIBANK, N.A.    VA    23233             NaN   \n",
       "\n",
       "  Consumer consent provided? Submitted via Date Sent to Company  \\\n",
       "0                        NaN      Referral              3/17/14   \n",
       "1           Consent provided           Web              10/5/16   \n",
       "2           Consent provided           Web             10/20/16   \n",
       "3                        NaN           Web              6/10/14   \n",
       "4                        NaN           Web              9/13/14   \n",
       "\n",
       "  Company Response to Consumer Timely response? Consumer disputed?  \\\n",
       "0      Closed with explanation              Yes                 No   \n",
       "1      Closed with explanation              Yes                 No   \n",
       "2      Closed with explanation              Yes                 No   \n",
       "3      Closed with explanation              Yes                Yes   \n",
       "4      Closed with explanation              Yes                Yes   \n",
       "\n",
       "   Complaint ID  \n",
       "0        759217  \n",
       "1       2141773  \n",
       "2       2163100  \n",
       "3        885638  \n",
       "4       1027760  "
      ]
     },
     "execution_count": 4,
     "metadata": {},
     "output_type": "execute_result"
    }
   ],
   "source": [
    "df.head()"
   ]
  },
  {
   "cell_type": "code",
   "execution_count": 5,
   "metadata": {},
   "outputs": [
    {
     "name": "stdout",
     "output_type": "stream",
     "text": [
      "Total numbers of rows: 9999 \n",
      "Total number of rows: 18\n"
     ]
    }
   ],
   "source": [
    "print(f\"Total numbers of rows: {df.shape[0]} \\nTotal number of rows: {df.shape[1]}\")"
   ]
  },
  {
   "cell_type": "code",
   "execution_count": 6,
   "metadata": {},
   "outputs": [],
   "source": [
    "col = [\"Product\", \"Consumer Complaint\"]\n",
    "df = df[col]\n",
    "df = df[pd.notnull(df[\"Consumer Complaint\"])]"
   ]
  },
  {
   "cell_type": "code",
   "execution_count": 7,
   "metadata": {},
   "outputs": [
    {
     "data": {
      "text/html": [
       "<div>\n",
       "<style scoped>\n",
       "    .dataframe tbody tr th:only-of-type {\n",
       "        vertical-align: middle;\n",
       "    }\n",
       "\n",
       "    .dataframe tbody tr th {\n",
       "        vertical-align: top;\n",
       "    }\n",
       "\n",
       "    .dataframe thead th {\n",
       "        text-align: right;\n",
       "    }\n",
       "</style>\n",
       "<table border=\"1\" class=\"dataframe\">\n",
       "  <thead>\n",
       "    <tr style=\"text-align: right;\">\n",
       "      <th></th>\n",
       "      <th>Product</th>\n",
       "      <th>Consumer Complaint</th>\n",
       "    </tr>\n",
       "  </thead>\n",
       "  <tbody>\n",
       "    <tr>\n",
       "      <th>1</th>\n",
       "      <td>Credit reporting</td>\n",
       "      <td>I have outdated information on my credit repor...</td>\n",
       "    </tr>\n",
       "    <tr>\n",
       "      <th>2</th>\n",
       "      <td>Consumer Loan</td>\n",
       "      <td>I purchased a new car on XXXX XXXX. The car de...</td>\n",
       "    </tr>\n",
       "    <tr>\n",
       "      <th>7</th>\n",
       "      <td>Credit reporting</td>\n",
       "      <td>An account on my credit report has a mistaken ...</td>\n",
       "    </tr>\n",
       "    <tr>\n",
       "      <th>12</th>\n",
       "      <td>Debt collection</td>\n",
       "      <td>This company refuses to provide me verificatio...</td>\n",
       "    </tr>\n",
       "    <tr>\n",
       "      <th>16</th>\n",
       "      <td>Debt collection</td>\n",
       "      <td>This complaint is in regards to Square Two Fin...</td>\n",
       "    </tr>\n",
       "    <tr>\n",
       "      <th>25</th>\n",
       "      <td>Mortgage</td>\n",
       "      <td>Started the refinance of home mortgage process...</td>\n",
       "    </tr>\n",
       "    <tr>\n",
       "      <th>26</th>\n",
       "      <td>Mortgage</td>\n",
       "      <td>In XXXX, I and my ex-husband applied for a ref...</td>\n",
       "    </tr>\n",
       "    <tr>\n",
       "      <th>28</th>\n",
       "      <td>Credit reporting</td>\n",
       "      <td>I have disputed several accounts on my credit ...</td>\n",
       "    </tr>\n",
       "    <tr>\n",
       "      <th>29</th>\n",
       "      <td>Mortgage</td>\n",
       "      <td>Mortgage was transferred to Nationstar as of X...</td>\n",
       "    </tr>\n",
       "    <tr>\n",
       "      <th>36</th>\n",
       "      <td>Credit card</td>\n",
       "      <td>Was a happy XXXX card member for years, in lat...</td>\n",
       "    </tr>\n",
       "  </tbody>\n",
       "</table>\n",
       "</div>"
      ],
      "text/plain": [
       "             Product                                 Consumer Complaint\n",
       "1   Credit reporting  I have outdated information on my credit repor...\n",
       "2      Consumer Loan  I purchased a new car on XXXX XXXX. The car de...\n",
       "7   Credit reporting  An account on my credit report has a mistaken ...\n",
       "12   Debt collection  This company refuses to provide me verificatio...\n",
       "16   Debt collection  This complaint is in regards to Square Two Fin...\n",
       "25          Mortgage  Started the refinance of home mortgage process...\n",
       "26          Mortgage  In XXXX, I and my ex-husband applied for a ref...\n",
       "28  Credit reporting  I have disputed several accounts on my credit ...\n",
       "29          Mortgage  Mortgage was transferred to Nationstar as of X...\n",
       "36       Credit card  Was a happy XXXX card member for years, in lat..."
      ]
     },
     "execution_count": 7,
     "metadata": {},
     "output_type": "execute_result"
    }
   ],
   "source": [
    "# after removing all the null value.\n",
    "df.head(10)"
   ]
  },
  {
   "cell_type": "code",
   "execution_count": 8,
   "metadata": {
    "scrolled": true
   },
   "outputs": [
    {
     "data": {
      "text/plain": [
       "array(['Credit reporting', 'Consumer Loan', 'Debt collection', 'Mortgage',\n",
       "       'Credit card', 'Other financial service',\n",
       "       'Bank account or service', 'Student loan', 'Money transfers',\n",
       "       'Payday loan', 'Prepaid card',\n",
       "       'Money transfer, virtual currency, or money service',\n",
       "       'Credit reporting, credit repair services, or other personal consumer reports',\n",
       "       'Checking or savings account', 'Vehicle loan or lease',\n",
       "       'Credit card or prepaid card'], dtype=object)"
      ]
     },
     "execution_count": 8,
     "metadata": {},
     "output_type": "execute_result"
    }
   ],
   "source": [
    "#unique value in product\n",
    "df[\"Product\"].unique()"
   ]
  },
  {
   "cell_type": "code",
   "execution_count": 9,
   "metadata": {},
   "outputs": [],
   "source": [
    "df.columns=[\"Product\",\"Consumer_Complaint\"]\n",
    "df[\"catagory_Id\"] = df[\"Product\"].factorize()[0]"
   ]
  },
  {
   "cell_type": "code",
   "execution_count": 10,
   "metadata": {},
   "outputs": [],
   "source": [
    "cat_id_df = df[[\"Product\",\"catagory_Id\"]].drop_duplicates().sort_values(\"catagory_Id\")"
   ]
  },
  {
   "cell_type": "code",
   "execution_count": 11,
   "metadata": {},
   "outputs": [],
   "source": [
    "cat_to_id = dict(cat_id_df.values)"
   ]
  },
  {
   "cell_type": "code",
   "execution_count": 12,
   "metadata": {},
   "outputs": [],
   "source": [
    "id_to_cat = dict(cat_id_df[[\"catagory_Id\",\"Product\"]].values) "
   ]
  },
  {
   "cell_type": "code",
   "execution_count": 13,
   "metadata": {},
   "outputs": [
    {
     "data": {
      "text/html": [
       "<div>\n",
       "<style scoped>\n",
       "    .dataframe tbody tr th:only-of-type {\n",
       "        vertical-align: middle;\n",
       "    }\n",
       "\n",
       "    .dataframe tbody tr th {\n",
       "        vertical-align: top;\n",
       "    }\n",
       "\n",
       "    .dataframe thead th {\n",
       "        text-align: right;\n",
       "    }\n",
       "</style>\n",
       "<table border=\"1\" class=\"dataframe\">\n",
       "  <thead>\n",
       "    <tr style=\"text-align: right;\">\n",
       "      <th></th>\n",
       "      <th>Product</th>\n",
       "      <th>Consumer_Complaint</th>\n",
       "      <th>catagory_Id</th>\n",
       "    </tr>\n",
       "  </thead>\n",
       "  <tbody>\n",
       "    <tr>\n",
       "      <th>1</th>\n",
       "      <td>Credit reporting</td>\n",
       "      <td>I have outdated information on my credit repor...</td>\n",
       "      <td>0</td>\n",
       "    </tr>\n",
       "    <tr>\n",
       "      <th>2</th>\n",
       "      <td>Consumer Loan</td>\n",
       "      <td>I purchased a new car on XXXX XXXX. The car de...</td>\n",
       "      <td>1</td>\n",
       "    </tr>\n",
       "    <tr>\n",
       "      <th>7</th>\n",
       "      <td>Credit reporting</td>\n",
       "      <td>An account on my credit report has a mistaken ...</td>\n",
       "      <td>0</td>\n",
       "    </tr>\n",
       "    <tr>\n",
       "      <th>12</th>\n",
       "      <td>Debt collection</td>\n",
       "      <td>This company refuses to provide me verificatio...</td>\n",
       "      <td>2</td>\n",
       "    </tr>\n",
       "    <tr>\n",
       "      <th>16</th>\n",
       "      <td>Debt collection</td>\n",
       "      <td>This complaint is in regards to Square Two Fin...</td>\n",
       "      <td>2</td>\n",
       "    </tr>\n",
       "  </tbody>\n",
       "</table>\n",
       "</div>"
      ],
      "text/plain": [
       "             Product                                 Consumer_Complaint  \\\n",
       "1   Credit reporting  I have outdated information on my credit repor...   \n",
       "2      Consumer Loan  I purchased a new car on XXXX XXXX. The car de...   \n",
       "7   Credit reporting  An account on my credit report has a mistaken ...   \n",
       "12   Debt collection  This company refuses to provide me verificatio...   \n",
       "16   Debt collection  This complaint is in regards to Square Two Fin...   \n",
       "\n",
       "    catagory_Id  \n",
       "1             0  \n",
       "2             1  \n",
       "7             0  \n",
       "12            2  \n",
       "16            2  "
      ]
     },
     "execution_count": 13,
     "metadata": {},
     "output_type": "execute_result"
    }
   ],
   "source": [
    "df.head()"
   ]
  },
  {
   "cell_type": "code",
   "execution_count": 14,
   "metadata": {},
   "outputs": [],
   "source": [
    "import matplotlib.pyplot as plt"
   ]
  },
  {
   "cell_type": "code",
   "execution_count": 15,
   "metadata": {},
   "outputs": [
    {
     "data": {
      "text/plain": [
       "<matplotlib.axes._subplots.AxesSubplot at 0x226c3e22b00>"
      ]
     },
     "execution_count": 15,
     "metadata": {},
     "output_type": "execute_result"
    },
    {
     "data": {
      "image/png": "[encoded data removed]",
      "text/plain": [
       "<Figure size 432x288 with 1 Axes>"
      ]
     },
     "metadata": {
      "needs_background": "light"
     },
     "output_type": "display_data"
    }
   ],
   "source": [
    "df.groupby(\"Product\").Consumer_Complaint.count().plot.bar(ylim=0)"
   ]
  },
  {
   "cell_type": "code",
   "execution_count": 19,
   "metadata": {},
   "outputs": [],
   "source": [
    "from sklearn.feature_extraction.text import TfidfVectorizer"
   ]
  },
  {
   "cell_type": "code",
   "execution_count": 21,
   "metadata": {},
   "outputs": [],
   "source": [
    "tfidf = TfidfVectorizer(sublinear_tf=True,\n",
    "                        min_df = 5, #minimum numbers of documents a word must be present in to be kept\n",
    "                        norm= 'l2', #ensure all our feature vectors have a euclidian norm of 1\n",
    "                        ngram_range= (1,2), #to indicate that we want to consider both unigrams and bigrams.\n",
    "                        stop_words ='english')\n",
    "                        "
   ]
  },
  {
   "cell_type": "code",
   "execution_count": 32,
   "metadata": {},
   "outputs": [],
   "source": [
    "features = tfidf.fit_transform(df.Consumer_Complaint).toarray()"
   ]
  },
  {
   "cell_type": "code",
   "execution_count": 34,
   "metadata": {},
   "outputs": [
    {
     "data": {
      "text/plain": [
       "(2114, 6081)"
      ]
     },
     "execution_count": 34,
     "metadata": {},
     "output_type": "execute_result"
    }
   ],
   "source": [
    "labels = df.catagory_Id\n",
    "features.shape"
   ]
  },
  {
   "cell_type": "code",
   "execution_count": 35,
   "metadata": {},
   "outputs": [],
   "source": [
    "from sklearn.model_selection import train_test_split"
   ]
  },
  {
   "cell_type": "code",
   "execution_count": 36,
   "metadata": {},
   "outputs": [],
   "source": [
    "X_train, X_test, y_train, y_test = train_test_split(df[\"Consumer_Complaint\"],df[\"Product\"], random_state=0)"
   ]
  },
  {
   "cell_type": "code",
   "execution_count": 42,
   "metadata": {},
   "outputs": [],
   "source": [
    "from sklearn.feature_extraction.text import CountVectorizer\n",
    "from sklearn.feature_extraction.text import TfidfTransformer\n",
    "count_vect = CountVectorizer()\n",
    "tfidf_transformer = TfidfTransformer()"
   ]
  },
  {
   "cell_type": "code",
   "execution_count": 45,
   "metadata": {},
   "outputs": [],
   "source": [
    "X_train_counts = count_vect.fit_transform(X_train)"
   ]
  },
  {
   "cell_type": "code",
   "execution_count": 50,
   "metadata": {},
   "outputs": [],
   "source": [
    "X_train_tfidf = tfidf_transformer.fit_transform(X_train_counts)"
   ]
  },
  {
   "cell_type": "code",
   "execution_count": 54,
   "metadata": {},
   "outputs": [],
   "source": [
    "from sklearn.svm import LinearSVC\n",
    "clf = LinearSVC().fit(X_train_tfidf, y_train)"
   ]
  },
  {
   "cell_type": "code",
   "execution_count": 61,
   "metadata": {},
   "outputs": [
    {
     "name": "stdout",
     "output_type": "stream",
     "text": [
      "['Mortgage']\n"
     ]
    }
   ],
   "source": [
    "print(clf.predict(count_vect.transform(['Started the refinance of home mortgage process...'])))"
   ]
  },
  {
   "cell_type": "code",
   "execution_count": 62,
   "metadata": {},
   "outputs": [],
   "source": [
    "y_pred = clf.predict(count_vect.transform(X_test))"
   ]
  },
  {
   "cell_type": "code",
   "execution_count": 63,
   "metadata": {},
   "outputs": [
    {
     "data": {
      "text/plain": [
       "array(['Bank account or service', 'Credit card', 'Debt collection',\n",
       "       'Debt collection', 'Mortgage', 'Credit reporting', 'Student loan',\n",
       "       'Credit card', 'Debt collection', 'Bank account or service',\n",
       "       'Mortgage', 'Bank account or service', 'Mortgage',\n",
       "       'Debt collection', 'Debt collection', 'Mortgage', 'Mortgage',\n",
       "       'Credit reporting', 'Mortgage', 'Mortgage', 'Credit reporting',\n",
       "       'Mortgage', 'Credit reporting', 'Credit reporting',\n",
       "       'Credit reporting', 'Credit reporting', 'Debt collection',\n",
       "       'Credit reporting', 'Bank account or service', 'Credit card',\n",
       "       'Credit reporting', 'Credit reporting', 'Bank account or service',\n",
       "       'Bank account or service', 'Credit card',\n",
       "       'Bank account or service', 'Credit card', 'Debt collection',\n",
       "       'Credit card', 'Credit card', 'Bank account or service',\n",
       "       'Student loan', 'Mortgage', 'Bank account or service',\n",
       "       'Credit card', 'Credit card', 'Mortgage', 'Credit reporting',\n",
       "       'Credit reporting', 'Credit card', 'Credit card',\n",
       "       'Bank account or service', 'Credit reporting', 'Credit card',\n",
       "       'Bank account or service', 'Credit reporting', 'Credit reporting',\n",
       "       'Student loan', 'Consumer Loan', 'Credit reporting', 'Mortgage',\n",
       "       'Mortgage', 'Consumer Loan', 'Credit card', 'Mortgage', 'Mortgage',\n",
       "       'Credit card', 'Debt collection', 'Debt collection',\n",
       "       'Credit reporting', 'Mortgage', 'Credit card', 'Debt collection',\n",
       "       'Debt collection', 'Consumer Loan', 'Credit reporting',\n",
       "       'Credit reporting', 'Mortgage', 'Bank account or service',\n",
       "       'Credit reporting', 'Mortgage', 'Mortgage', 'Mortgage',\n",
       "       'Consumer Loan', 'Credit reporting', 'Mortgage', 'Debt collection',\n",
       "       'Credit card', 'Student loan', 'Mortgage', 'Credit card',\n",
       "       'Bank account or service', 'Mortgage', 'Bank account or service',\n",
       "       'Debt collection', 'Bank account or service', 'Credit reporting',\n",
       "       'Credit card', 'Credit reporting', 'Debt collection',\n",
       "       'Credit card', 'Debt collection', 'Consumer Loan', 'Mortgage',\n",
       "       'Bank account or service', 'Bank account or service',\n",
       "       'Bank account or service', 'Credit reporting', 'Mortgage',\n",
       "       'Debt collection', 'Mortgage', 'Mortgage', 'Credit reporting',\n",
       "       'Credit reporting, credit repair services, or other personal consumer reports',\n",
       "       'Credit reporting', 'Student loan', 'Student loan', 'Credit card',\n",
       "       'Credit reporting', 'Debt collection', 'Credit reporting',\n",
       "       'Mortgage', 'Credit reporting', 'Credit card', 'Credit card',\n",
       "       'Student loan', 'Credit card', 'Credit reporting', 'Mortgage',\n",
       "       'Bank account or service', 'Credit card', 'Credit reporting',\n",
       "       'Bank account or service', 'Mortgage', 'Student loan',\n",
       "       'Credit reporting', 'Mortgage', 'Credit reporting',\n",
       "       'Credit reporting', 'Student loan', 'Bank account or service',\n",
       "       'Credit card', 'Consumer Loan', 'Consumer Loan', 'Debt collection',\n",
       "       'Credit card', 'Credit reporting', 'Mortgage', 'Credit reporting',\n",
       "       'Credit reporting', 'Debt collection', 'Credit card',\n",
       "       'Credit card', 'Credit reporting', 'Bank account or service',\n",
       "       'Mortgage', 'Bank account or service', 'Debt collection',\n",
       "       'Credit reporting', 'Mortgage', 'Credit reporting',\n",
       "       'Credit reporting', 'Consumer Loan', 'Debt collection',\n",
       "       'Credit reporting', 'Credit reporting', 'Credit card', 'Mortgage',\n",
       "       'Debt collection', 'Bank account or service', 'Mortgage',\n",
       "       'Credit reporting', 'Credit reporting', 'Mortgage', 'Credit card',\n",
       "       'Credit card', 'Mortgage', 'Credit card', 'Credit reporting',\n",
       "       'Credit reporting', 'Mortgage', 'Debt collection',\n",
       "       'Bank account or service', 'Mortgage', 'Credit reporting',\n",
       "       'Credit card', 'Credit reporting', 'Mortgage',\n",
       "       'Bank account or service', 'Credit card', 'Debt collection',\n",
       "       'Credit reporting', 'Mortgage', 'Mortgage', 'Debt collection',\n",
       "       'Bank account or service', 'Mortgage', 'Debt collection',\n",
       "       'Credit card', 'Mortgage', 'Debt collection', 'Debt collection',\n",
       "       'Debt collection', 'Mortgage', 'Debt collection',\n",
       "       'Debt collection', 'Credit reporting', 'Mortgage', 'Mortgage',\n",
       "       'Mortgage', 'Mortgage', 'Consumer Loan', 'Credit card', 'Mortgage',\n",
       "       'Mortgage', 'Credit card', 'Mortgage', 'Debt collection',\n",
       "       'Debt collection', 'Mortgage', 'Debt collection',\n",
       "       'Debt collection', 'Student loan', 'Credit reporting',\n",
       "       'Student loan', 'Credit card', 'Debt collection', 'Credit card',\n",
       "       'Consumer Loan', 'Credit card', 'Consumer Loan', 'Mortgage',\n",
       "       'Mortgage', 'Student loan', 'Credit card', 'Mortgage',\n",
       "       'Credit reporting', 'Mortgage', 'Mortgage', 'Credit card',\n",
       "       'Bank account or service', 'Debt collection', 'Debt collection',\n",
       "       'Bank account or service', 'Credit reporting',\n",
       "       'Bank account or service', 'Debt collection', 'Credit card',\n",
       "       'Debt collection', 'Debt collection', 'Bank account or service',\n",
       "       'Mortgage', 'Consumer Loan', 'Mortgage', 'Bank account or service',\n",
       "       'Bank account or service', 'Mortgage', 'Student loan',\n",
       "       'Credit reporting', 'Bank account or service',\n",
       "       'Bank account or service', 'Debt collection', 'Mortgage',\n",
       "       'Bank account or service', 'Credit reporting', 'Debt collection',\n",
       "       'Bank account or service', 'Debt collection', 'Credit reporting',\n",
       "       'Credit reporting', 'Credit reporting', 'Credit reporting',\n",
       "       'Credit reporting', 'Debt collection', 'Debt collection',\n",
       "       'Mortgage', 'Debt collection', 'Debt collection', 'Mortgage',\n",
       "       'Credit card', 'Student loan', 'Student loan', 'Credit reporting',\n",
       "       'Bank account or service', 'Debt collection', 'Credit reporting',\n",
       "       'Mortgage', 'Debt collection', 'Mortgage', 'Credit reporting',\n",
       "       'Mortgage', 'Student loan', 'Debt collection', 'Credit card',\n",
       "       'Consumer Loan', 'Student loan', 'Credit reporting', 'Mortgage',\n",
       "       'Consumer Loan', 'Credit card', 'Debt collection', 'Credit card',\n",
       "       'Debt collection', 'Bank account or service', 'Consumer Loan',\n",
       "       'Credit reporting', 'Credit reporting', 'Debt collection',\n",
       "       'Mortgage', 'Credit card', 'Credit reporting', 'Money transfers',\n",
       "       'Credit card', 'Bank account or service', 'Credit reporting',\n",
       "       'Debt collection', 'Debt collection', 'Debt collection',\n",
       "       'Debt collection', 'Debt collection', 'Credit card',\n",
       "       'Bank account or service', 'Money transfers', 'Credit card',\n",
       "       'Credit reporting', 'Credit reporting', 'Credit card',\n",
       "       'Credit reporting', 'Debt collection', 'Debt collection',\n",
       "       'Credit card', 'Credit reporting', 'Credit reporting',\n",
       "       'Credit reporting', 'Debt collection', 'Bank account or service',\n",
       "       'Debt collection', 'Mortgage', 'Mortgage', 'Credit reporting',\n",
       "       'Debt collection', 'Debt collection', 'Credit card',\n",
       "       'Credit reporting', 'Debt collection', 'Debt collection',\n",
       "       'Mortgage', 'Credit card', 'Debt collection', 'Credit card',\n",
       "       'Debt collection', 'Mortgage', 'Debt collection', 'Mortgage',\n",
       "       'Credit card', 'Debt collection', 'Mortgage', 'Money transfers',\n",
       "       'Credit reporting', 'Consumer Loan', 'Student loan', 'Mortgage',\n",
       "       'Debt collection', 'Student loan', 'Student loan', 'Mortgage',\n",
       "       'Mortgage', 'Student loan', 'Credit card', 'Mortgage',\n",
       "       'Credit card', 'Credit card', 'Debt collection', 'Mortgage',\n",
       "       'Mortgage', 'Mortgage', 'Mortgage', 'Consumer Loan', 'Mortgage',\n",
       "       'Mortgage', 'Debt collection', 'Credit reporting',\n",
       "       'Credit reporting', 'Bank account or service',\n",
       "       'Bank account or service', 'Student loan', 'Credit card',\n",
       "       'Bank account or service', 'Credit reporting', 'Credit card',\n",
       "       'Credit reporting', 'Credit card', 'Debt collection',\n",
       "       'Credit card', 'Credit card', 'Credit reporting', 'Credit card',\n",
       "       'Mortgage', 'Student loan', 'Credit reporting', 'Credit card',\n",
       "       'Money transfers', 'Mortgage', 'Credit reporting', 'Consumer Loan',\n",
       "       'Credit reporting', 'Credit reporting', 'Bank account or service',\n",
       "       'Credit reporting', 'Mortgage', 'Mortgage', 'Credit card',\n",
       "       'Mortgage', 'Consumer Loan', 'Credit reporting',\n",
       "       'Credit reporting', 'Credit reporting', 'Credit card',\n",
       "       'Credit card', 'Bank account or service',\n",
       "       'Bank account or service', 'Bank account or service', 'Mortgage',\n",
       "       'Credit card', 'Credit reporting', 'Debt collection',\n",
       "       'Credit card', 'Credit reporting', 'Mortgage', 'Credit card',\n",
       "       'Consumer Loan', 'Credit reporting', 'Debt collection', 'Mortgage',\n",
       "       'Mortgage', 'Mortgage', 'Mortgage', 'Debt collection',\n",
       "       'Debt collection', 'Debt collection', 'Bank account or service',\n",
       "       'Consumer Loan', 'Credit reporting', 'Credit card', 'Mortgage',\n",
       "       'Mortgage', 'Mortgage', 'Credit card', 'Debt collection',\n",
       "       'Mortgage', 'Credit card', 'Student loan', 'Credit reporting',\n",
       "       'Debt collection', 'Debt collection', 'Mortgage', 'Mortgage',\n",
       "       'Credit card', 'Credit reporting', 'Debt collection',\n",
       "       'Credit reporting', 'Bank account or service', 'Consumer Loan',\n",
       "       'Student loan', 'Credit reporting', 'Debt collection',\n",
       "       'Credit reporting', 'Credit card', 'Debt collection',\n",
       "       'Debt collection', 'Consumer Loan', 'Mortgage', 'Debt collection',\n",
       "       'Mortgage', 'Student loan', 'Debt collection', 'Debt collection',\n",
       "       'Credit reporting', 'Credit reporting', 'Credit reporting',\n",
       "       'Credit reporting', 'Credit reporting', 'Debt collection',\n",
       "       'Debt collection', 'Debt collection', 'Credit reporting',\n",
       "       'Mortgage', 'Student loan', 'Money transfers', 'Mortgage',\n",
       "       'Credit reporting', 'Bank account or service', 'Mortgage',\n",
       "       'Debt collection', 'Bank account or service', 'Mortgage',\n",
       "       'Credit reporting', 'Mortgage', 'Bank account or service',\n",
       "       'Mortgage', 'Debt collection', 'Credit card', 'Debt collection',\n",
       "       'Consumer Loan', 'Mortgage', 'Debt collection',\n",
       "       'Bank account or service', 'Mortgage', 'Credit reporting',\n",
       "       'Bank account or service', 'Student loan', 'Credit reporting',\n",
       "       'Debt collection', 'Mortgage', 'Credit card', 'Credit reporting',\n",
       "       'Mortgage', 'Credit reporting', 'Debt collection', 'Mortgage',\n",
       "       'Consumer Loan', 'Bank account or service',\n",
       "       'Bank account or service', 'Mortgage', 'Credit card',\n",
       "       'Student loan', 'Credit reporting', 'Mortgage', 'Student loan'],\n",
       "      dtype=object)"
      ]
     },
     "execution_count": 63,
     "metadata": {},
     "output_type": "execute_result"
    }
   ],
   "source": [
    "y_pred"
   ]
  },
  {
   "cell_type": "code",
   "execution_count": 79,
   "metadata": {},
   "outputs": [
    {
     "name": "stdout",
     "output_type": "stream",
     "text": [
      "                                                                              precision    recall  f1-score   support\n",
      "\n",
      "                                                            Credit reporting       0.70      0.87      0.77        91\n",
      "                                                               Consumer Loan       0.36      0.43      0.39        21\n",
      "                                                             Debt collection       0.70      0.87      0.77        91\n",
      "                                                                    Mortgage       0.86      0.69      0.76       124\n",
      "                                                                 Credit card       0.86      0.69      0.76       124\n",
      "                                                     Other financial service       0.86      0.89      0.88       113\n",
      "                                                     Bank account or service       0.86      0.89      0.88       113\n",
      "                                                                Student loan       0.70      0.87      0.77        91\n",
      "                                                             Money transfers       0.86      0.89      0.88       113\n",
      "                                                                 Payday loan       0.69      0.78      0.73        72\n",
      "                                                                Prepaid card       0.69      0.78      0.73        72\n",
      "                          Money transfer, virtual currency, or money service       0.86      0.69      0.76       124\n",
      "Credit reporting, credit repair services, or other personal consumer reports       0.70      0.87      0.77        91\n",
      "                                                 Checking or savings account       0.70      0.87      0.77        91\n",
      "                                                       Vehicle loan or lease       0.86      0.89      0.88       113\n",
      "                                                 Credit card or prepaid card       0.70      0.87      0.77        91\n",
      "\n",
      "                                                                   micro avg       0.78      0.79      0.78    181686\n",
      "                                                                   macro avg       0.73      0.74      0.73    181686\n",
      "                                                                weighted avg       0.79      0.79      0.78    181686\n",
      "\n"
     ]
    },
    {
     "name": "stderr",
     "output_type": "stream",
     "text": [
      "C:\\ProgramData\\Anaconda3\\lib\\site-packages\\sklearn\\metrics\\classification.py:1870: UserWarning: labels size, 2114, does not match size of target_names, 16\n",
      "  .format(len(labels), len(target_names))\n",
      "C:\\ProgramData\\Anaconda3\\lib\\site-packages\\sklearn\\metrics\\classification.py:1439: UndefinedMetricWarning: Recall and F-score are ill-defined and being set to 0.0 in labels with no true samples.\n",
      "  'recall', 'true', average, warn_for)\n"
     ]
    }
   ],
   "source": [
    "from sklearn import metrics\n",
    "print(metrics.classification_report(y_test,y_pred, labels= df.Product, target_names=df['Product'].unique()))"
   ]
  },
  {
   "cell_type": "code",
   "execution_count": null,
   "metadata": {},
   "outputs": [],
   "source": []
  }
 ],
 "metadata": {
  "kernelspec": {
   "display_name": "Python 3",
   "language": "python",
   "name": "python3"
  },
  "language_info": {
   "codemirror_mode": {
    "name": "ipython",
    "version": 3
   },
   "file_extension": ".py",
   "mimetype": "text/x-python",
   "name": "python",
   "nbconvert_exporter": "python",
   "pygments_lexer": "ipython3",
   "version": "3.7.3"
  }
 },
 "nbformat": 4,
 "nbformat_minor": 2
}
